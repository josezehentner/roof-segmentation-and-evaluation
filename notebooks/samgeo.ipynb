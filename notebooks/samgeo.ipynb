{
 "nbformat": 4,
 "nbformat_minor": 0,
 "metadata": {
  "colab": {
   "provenance": [],
   "gpuType": "T4",
   "authorship_tag": "ABX9TyN8MspGgiq0pFzUBcmxbQ+H"
  },
  "kernelspec": {
   "name": "python3",
   "display_name": "Python 3"
  },
  "language_info": {
   "name": "python"
  },
  "accelerator": "GPU"
 },
 "cells": [
  {
   "cell_type": "code",
   "source": [
    "from google.colab import drive\n",
    "drive.mount('/content/drive')"
   ],
   "metadata": {
    "id": "V7G73-TnJGSB",
    "colab": {
     "base_uri": "https://localhost:8080/"
    },
    "executionInfo": {
     "status": "ok",
     "timestamp": 1753213440291,
     "user_tz": -120,
     "elapsed": 22214,
     "user": {
      "displayName": "José Zehentner",
      "userId": "17148684951063508157"
     }
    },
    "outputId": "9a0a363c-2bf5-4841-8ea2-eb601085e29a"
   },
   "execution_count": 1,
   "outputs": [
    {
     "output_type": "stream",
     "name": "stdout",
     "text": [
      "Mounted at /content/drive\n"
     ]
    }
   ]
  },
  {
   "cell_type": "code",
   "source": [
    "import os\n",
    "\n",
    "cache_dir = '/content/drive/MyDrive/Bachelorarbeit/samgeo_package'\n",
    "\n",
    "if os.path.exists(cache_dir):\n",
    "    import sys\n",
    "    sys.path.append(cache_dir)\n",
    "    print(\"Using cached version of segment-geospatial.\")"
   ],
   "metadata": {
    "colab": {
     "base_uri": "https://localhost:8080/"
    },
    "id": "nE5ZL0mFLG83",
    "executionInfo": {
     "status": "ok",
     "timestamp": 1753213443737,
     "user_tz": -120,
     "elapsed": 1130,
     "user": {
      "displayName": "José Zehentner",
      "userId": "17148684951063508157"
     }
    },
    "outputId": "cbf77559-34c6-494d-b77a-39db2715dd2f"
   },
   "execution_count": 2,
   "outputs": [
    {
     "output_type": "stream",
     "name": "stdout",
     "text": [
      "Using cached version of segment-geospatial.\n"
     ]
    }
   ]
  },
  {
   "cell_type": "markdown",
   "source": [],
   "metadata": {
    "id": "D7Gf1ZB1K9ak"
   }
  },
  {
   "cell_type": "code",
   "source": [
    "import torch\n",
    "from samgeo import SamGeo, SamGeo2, regularize\n",
    "import geopandas as gpd\n",
    "from samgeo.text_sam import LangSAM\n",
    "from samgeo.hq_sam import SamGeo as HQSamGeo\n",
    "import pandas as pd\n",
    "import numpy as np\n",
    "from sklearn.decomposition import PCA\n",
    "from skimage import data\n",
    "import tifffile\n",
    "import rasterio\n",
    "from rasterio import Affine\n",
    "from rasterio.enums import Compression\n",
    "from pathlib import Path\n",
    "import csv"
   ],
   "metadata": {
    "id": "Pn6JnD8FE4KV",
    "executionInfo": {
     "status": "ok",
     "timestamp": 1753213780933,
     "user_tz": -120,
     "elapsed": 335588,
     "user": {
      "displayName": "José Zehentner",
      "userId": "17148684951063508157"
     }
    }
   },
   "execution_count": 3,
   "outputs": []
  },
  {
   "cell_type": "markdown",
   "source": [],
   "metadata": {
    "id": "NKWJTrksyQQ_"
   }
  },
  {
   "cell_type": "code",
   "source": [
    "# Hilfsfunktion, um alle Bilder zu segmentieren\n",
    "def iterate_folders(base_dir: str, function):\n",
    "    base = Path(base_dir)\n",
    "    for sub in base.iterdir():\n",
    "        if not sub.is_dir():\n",
    "            continue\n",
    "        print(f\"Processing folder: {sub.name}\")\n",
    "        tifs = [p for p in sub.glob(\"*.tif\") if not p.name.endswith(\".aux.xml\")]\n",
    "        for tif in tifs:\n",
    "          function(tif)"
   ],
   "metadata": {
    "id": "YdlqkF0vXDn5",
    "executionInfo": {
     "status": "ok",
     "timestamp": 1753213899166,
     "user_tz": -120,
     "elapsed": 13,
     "user": {
      "displayName": "José Zehentner",
      "userId": "17148684951063508157"
     }
    }
   },
   "execution_count": 4,
   "outputs": []
  },
  {
   "cell_type": "markdown",
   "source": [],
   "metadata": {
    "id": "YKzIxYd_0j16"
   }
  },
  {
   "cell_type": "markdown",
   "source": [
    "# Samgeo2 automatic"
   ],
   "metadata": {
    "id": "kbEBJdRL0lIW"
   }
  },
  {
   "cell_type": "code",
   "source": [
    "def run_samgeo2_raw(src_path: Path):\n",
    "\n",
    "  out_dir = \"/content/drive/MyDrive/Bachelorarbeit/results\"\n",
    "\n",
    "  sam_2 = SamGeo2(\n",
    "      device='cuda',\n",
    "      apply_postprocessing=False,\n",
    "      points_per_side=32,\n",
    "      points_per_batch=64,\n",
    "      pred_iou_thresh=0.8,\n",
    "      stability_score_thresh=0.95,\n",
    "      stability_score_offset=1,\n",
    "      crop_n_layers=0,\n",
    "      box_nms_thresh=0.7,\n",
    "      crop_n_points_downscale_factor=1,\n",
    "      min_mask_region_area=0,\n",
    "      use_m2m=False\n",
    "      )\n",
    "\n",
    "  tiff_mask = os.path.join(out_dir, f\"{src_path.stem}_sam_raw.tif\")\n",
    "  sam_2.generate(str(src_path), tiff_mask)\n",
    "\n",
    "  vector_mask = os.path.join(out_dir, f\"{src_path.stem}_sam_raw.gpkg\")\n",
    "  sam_2.raster_to_vector(tiff_mask, vector_mask)"
   ],
   "metadata": {
    "id": "YcvfywE0q1Uo"
   },
   "execution_count": null,
   "outputs": []
  },
  {
   "cell_type": "code",
   "source": [
    "iterate_folders(\"/content/drive/MyDrive/Bachelorarbeit/data/szenarien_cir\", run_samgeo2_raw)"
   ],
   "metadata": {
    "colab": {
     "base_uri": "https://localhost:8080/",
     "height": 118,
     "referenced_widgets": [
      "a8a76da035e84929a107697d7dd9af34",
      "275b7421c13e433cb5c1e3e79d68e950",
      "04466738da2a491895f0b643602f794a",
      "e4af65f1b8f14533ab02bb23a0e93ff0",
      "04a8df656c7f46fe93c2b79b5002bb8b",
      "eaba88db73c9496cb3102a360c73ce54",
      "987256b85bf640398f0b7481024c9c90",
      "01eaa6cde84344bb9d904ad2e82f769a",
      "364d7803895a499b949da0acd3b4ea8e",
      "98cbbddfe74d4378a05381a715650696",
      "7a72f697eceb4625a22660e0d74dd9a2"
     ]
    },
    "id": "syn5jPvz0y4T",
    "executionInfo": {
     "status": "ok",
     "timestamp": 1746714625699,
     "user_tz": -120,
     "elapsed": 143391,
     "user": {
      "displayName": "José Zehentner",
      "userId": "17148684951063508157"
     }
    },
    "outputId": "383d18cd-11af-4dd2-9c03-11e9fb00d1cd"
   },
   "execution_count": null,
   "outputs": [
    {
     "output_type": "stream",
     "name": "stdout",
     "text": [
      "Processing folder: Wohngegend\n"
     ]
    },
    {
     "output_type": "display_data",
     "data": {
      "text/plain": [
       "sam2_hiera_large.pt:   0%|          | 0.00/898M [00:00<?, ?B/s]"
      ],
      "application/vnd.jupyter.widget-view+json": {
       "version_major": 2,
       "version_minor": 0,
       "model_id": "a8a76da035e84929a107697d7dd9af34"
      }
     },
     "metadata": {}
    },
    {
     "output_type": "stream",
     "name": "stdout",
     "text": [
      "Processing folder: Land\n",
      "Processing folder: Stadt\n",
      "Processing folder: Gewerbegebiet\n"
     ]
    }
   ]
  },
  {
   "cell_type": "markdown",
   "source": [
    "# Samgeo2 point prompt"
   ],
   "metadata": {
    "id": "b84M7VWO5pz4"
   }
  },
  {
   "cell_type": "code",
   "source": [
    "def run_samgeo2_point_prompt(src_path: Path):\n",
    "\n",
    "    out_dir = \"/content/drive/MyDrive/Bachelorarbeit/results/SAMGeo/Sam_2_point_prompt/mimsize1000_thresh2000\"\n",
    "\n",
    "    csv_files = list(src_path.parent.glob(\"*.csv\"))\n",
    "    csv_file = csv_files[0]\n",
    "\n",
    "    coords = []\n",
    "    with open(csv_file, newline='') as f:\n",
    "        reader = csv.reader(f)\n",
    "        for row in reader:\n",
    "            x = float(row[0])\n",
    "            y = float(row[1])\n",
    "            coords.append([x, y])\n",
    "\n",
    "    sam_2 = SamGeo2(device='cuda', automatic=False)\n",
    "    sam_2.set_image(str(src_path))\n",
    "    tiff_mask = os.path.join(out_dir, f\"a{src_path.stem}_sam_point_prompt.tif\")\n",
    "\n",
    "    sam_2.predict_by_points(\n",
    "        point_coords_batch=coords,\n",
    "        point_crs=\"EPSG:25832\",\n",
    "        output=tiff_mask,\n",
    "        multimask_output=False,\n",
    "        )\n",
    "\n",
    "    vector_mask = os.path.join(out_dir, f\"a{src_path.stem}_minsize1000_thresh2000.gpkg\")\n",
    "    tiff_mask_regioned = os.path.join(out_dir, f\"a{src_path.stem}_sam_point_prompt_regioned.tif\")\n",
    "\n",
    "    array, gdf = sam_2.region_groups(\n",
    "        tiff_mask,\n",
    "        min_size=1000,\n",
    "        out_vector=vector_mask,\n",
    "        out_image=tiff_mask_regioned\n",
    "        )\n",
    "\n",
    "    vector_mask_regularized = os.path.join(out_dir, f\"a{src_path.stem}_regularized.gpkg\")\n",
    "    regularize(vector_mask, vector_mask_regularized, crs=\"EPSG:25832\")"
   ],
   "metadata": {
    "id": "MgP7QLLq5x-o",
    "executionInfo": {
     "status": "ok",
     "timestamp": 1753220185825,
     "user_tz": -120,
     "elapsed": 18,
     "user": {
      "displayName": "José Zehentner",
      "userId": "17148684951063508157"
     }
    }
   },
   "execution_count": 12,
   "outputs": []
  },
  {
   "cell_type": "code",
   "source": [
    "iterate_folders(\"/content/drive/MyDrive/Bachelorarbeit/data/szenarien_rgb\", run_samgeo2_point_prompt)"
   ],
   "metadata": {
    "colab": {
     "base_uri": "https://localhost:8080/"
    },
    "id": "fE3UBmTuAEyN",
    "outputId": "ff9f115d-b08b-4a10-a43a-ae44ca06c1f4",
    "executionInfo": {
     "status": "ok",
     "timestamp": 1753220211216,
     "user_tz": -120,
     "elapsed": 21440,
     "user": {
      "displayName": "José Zehentner",
      "userId": "17148684951063508157"
     }
    }
   },
   "execution_count": 13,
   "outputs": [
    {
     "output_type": "stream",
     "name": "stdout",
     "text": [
      "Processing folder: Land\n",
      "Processing folder: Stadt\n",
      "Processing folder: Wohngegend\n",
      "Processing folder: Gewerbegebiet\n"
     ]
    }
   ]
  },
  {
   "cell_type": "markdown",
   "source": [
    "# Samgeo2 text prompt"
   ],
   "metadata": {
    "id": "11VCPXQsZnmr"
   }
  },
  {
   "cell_type": "code",
   "source": [
    "def run_samgeo2_text_prompt(src_path: Path):\n",
    "\n",
    "    out_dir = \"/content/drive/MyDrive/Bachelorarbeit/results/SAMGeo/sam_streets\"\n",
    "    text_prompt = \"streets\"\n",
    "\n",
    "    lang_sam = LangSAM(model_type=\"sam2-hiera-large\")\n",
    "\n",
    "    tiff_mask = os.path.join(out_dir, f\"{src_path.stem}_sam2_text_prompt.tif\")\n",
    "\n",
    "    lang_sam.predict(\n",
    "        image=str(src_path),\n",
    "        output=tiff_mask,\n",
    "        text_prompt=text_prompt,\n",
    "        box_threshold=0.2,\n",
    "        text_threshold=0.4)\n",
    "\n",
    "    vector_mask = os.path.join(out_dir, f\"{src_path.stem}_sam2_text_prompt.gpkg\")\n",
    "    lang_sam.raster_to_vector(tiff_mask, vector_mask)\n",
    "\n",
    "    vector_mask_regularized = os.path.join(out_dir, f\"{src_path.stem}__sam2_regularized.gpkg\")\n",
    "    regularize(vector_mask, vector_mask_regularized)"
   ],
   "metadata": {
    "id": "WL1vaw7XXqd1",
    "executionInfo": {
     "status": "ok",
     "timestamp": 1753221342196,
     "user_tz": -120,
     "elapsed": 20,
     "user": {
      "displayName": "José Zehentner",
      "userId": "17148684951063508157"
     }
    }
   },
   "execution_count": 17,
   "outputs": []
  },
  {
   "cell_type": "code",
   "source": [
    "iterate_folders(\"/content/drive/MyDrive/Bachelorarbeit/data/szenarien_rgb\", run_samgeo2_text_prompt)"
   ],
   "metadata": {
    "colab": {
     "base_uri": "https://localhost:8080/"
    },
    "id": "qYadm373Pade",
    "executionInfo": {
     "status": "ok",
     "timestamp": 1753221384431,
     "user_tz": -120,
     "elapsed": 39960,
     "user": {
      "displayName": "José Zehentner",
      "userId": "17148684951063508157"
     }
    },
    "outputId": "aa5eaf9a-f26a-4a07-d8f3-aab9b653f41d"
   },
   "execution_count": 18,
   "outputs": [
    {
     "output_type": "stream",
     "name": "stdout",
     "text": [
      "Processing folder: Land\n",
      "final text_encoder_type: bert-base-uncased\n",
      "Processing folder: Stadt\n",
      "final text_encoder_type: bert-base-uncased\n",
      "Processing folder: Wohngegend\n",
      "final text_encoder_type: bert-base-uncased\n",
      "Processing folder: Gewerbegebiet\n",
      "final text_encoder_type: bert-base-uncased\n"
     ]
    }
   ]
  },
  {
   "cell_type": "markdown",
   "source": [
    "# HQSam automatic"
   ],
   "metadata": {
    "id": "8R9hOQir4_Be"
   }
  },
  {
   "cell_type": "code",
   "source": [
    "def run_hq_sam(src_path: Path):\n",
    "\n",
    "    out_dir = \"/content/drive/MyDrive/Bachelorarbeit/results\"\n",
    "\n",
    "    hq_sam = HQSamGeo(model_type=\"vit_h\", device=\"cuda\", hq=True)\n",
    "\n",
    "    tiff_mask = os.path.join(out_dir, f\"{src_path.stem}_hq_sam.tif\")\n",
    "    hq_sam.generate(str(src_path), tiff_mask)\n",
    "\n",
    "    vector_mask = os.path.join(out_dir, f\"{src_path.stem}_hq_sam.gpkg\")\n",
    "    hq_sam.raster_to_vector(tiff_mask, vector_mask)"
   ],
   "metadata": {
    "id": "3l74a-ZU7Z4p"
   },
   "execution_count": null,
   "outputs": []
  },
  {
   "cell_type": "code",
   "source": [
    "iterate_folders(\"/content/drive/MyDrive/Bachelorarbeit/data/szenarien_cir\", run_hq_sam)"
   ],
   "metadata": {
    "colab": {
     "base_uri": "https://localhost:8080/"
    },
    "id": "xLPVICt-88-3",
    "executionInfo": {
     "status": "ok",
     "timestamp": 1746629460916,
     "user_tz": -120,
     "elapsed": 69645,
     "user": {
      "displayName": "José Zehentner",
      "userId": "17148684951063508157"
     }
    },
    "outputId": "d42b57f9-3297-4464-df7d-6d532d8c37b5"
   },
   "execution_count": null,
   "outputs": [
    {
     "output_type": "stream",
     "name": "stdout",
     "text": [
      "Processing folder: Land\n",
      "<All keys matched successfully>\n",
      "Processing folder: Stadt\n",
      "<All keys matched successfully>\n",
      "Processing folder: Wohngegend\n",
      "<All keys matched successfully>\n",
      "Processing folder: Gewerbegebiet\n",
      "<All keys matched successfully>\n"
     ]
    }
   ]
  },
  {
   "cell_type": "markdown",
   "source": [
    "# HQSam point prompt"
   ],
   "metadata": {
    "id": "gjGk1Pz_PDCW"
   }
  },
  {
   "cell_type": "code",
   "source": [
    "def run_hq_sam_point_prompt(src_path: Path):\n",
    "\n",
    "    out_dir = \"/content/drive/MyDrive/Bachelorarbeit/results/SAMGeo/HQ_Sam_point_prompt\"\n",
    "    csv_files = list(src_path.parent.glob(\"*.csv\"))\n",
    "    csv_file = csv_files[0]\n",
    "\n",
    "    coords = []\n",
    "    with open(csv_file, newline='') as f:\n",
    "        reader = csv.reader(f)\n",
    "        for row in reader:\n",
    "            x = float(row[0])\n",
    "            y = float(row[1])\n",
    "            coords.append([x, y])\n",
    "\n",
    "    hq_sam = HQSamGeo(model_type=\"vit_h\", device=\"cuda\", automatic=False)\n",
    "    hq_sam.set_image(str(src_path))\n",
    "    tiff_mask = os.path.join(out_dir, f\"{src_path.stem}_hq_sam_point_prompt_2.tif\")\n",
    "\n",
    "    hq_sam.predict(\n",
    "        point_coords=coords,\n",
    "        point_crs=\"EPSG:25832\",\n",
    "        output=tiff_mask\n",
    "        )\n",
    "\n",
    "    vector_mask = os.path.join(out_dir, f\"{src_path.stem}_hq_sam_point_prompt_2.gpkg\")\n",
    "    hq_sam.raster_to_vector(tiff_mask, vector_mask)\n",
    "\n",
    "    vector_mask_regularized = os.path.join(out_dir, f\"{src_path.stem}_regularized_2.gpkg\")\n",
    "    regularize(vector_mask, vector_mask_regularized, crs=\"EPSG:25832\")"
   ],
   "metadata": {
    "id": "OKnBYJdFPCNy",
    "executionInfo": {
     "status": "ok",
     "timestamp": 1753213958250,
     "user_tz": -120,
     "elapsed": 52,
     "user": {
      "displayName": "José Zehentner",
      "userId": "17148684951063508157"
     }
    }
   },
   "execution_count": 6,
   "outputs": []
  },
  {
   "cell_type": "code",
   "source": [
    "iterate_folders(\"/content/drive/MyDrive/Bachelorarbeit/data/szenarien_rgb\", run_hq_sam_point_prompt)"
   ],
   "metadata": {
    "colab": {
     "base_uri": "https://localhost:8080/"
    },
    "id": "1O9xurcDPcYc",
    "executionInfo": {
     "status": "ok",
     "timestamp": 1753214339655,
     "user_tz": -120,
     "elapsed": 379632,
     "user": {
      "displayName": "José Zehentner",
      "userId": "17148684951063508157"
     }
    },
    "outputId": "f73d1b9b-b3a3-4c36-e811-165e8ef3c04c"
   },
   "execution_count": 7,
   "outputs": [
    {
     "output_type": "stream",
     "name": "stdout",
     "text": [
      "Processing folder: Land\n",
      "Model checkpoint for vit_h not found.\n"
     ]
    },
    {
     "output_type": "stream",
     "name": "stderr",
     "text": [
      "Downloading...\n",
      "From: https://github.com/opengeos/datasets/releases/download/models/sam_hq_vit_h.zip\n",
      "To: /root/.cache/torch/hub/checkpoints/sam_hq_vit_h.zip\n",
      "100%|██████████| 1.02G/1.02G [01:47<00:00, 9.48MB/s]\n",
      "Downloading...\n",
      "From: https://github.com/opengeos/datasets/releases/download/models/sam_hq_vit_h.z01\n",
      "To: /root/.cache/torch/hub/checkpoints/sam_hq_vit_h.z01\n",
      "100%|██████████| 1.36G/1.36G [02:19<00:00, 9.77MB/s]\n",
      "INFO patool: Extracting /root/.cache/torch/hub/checkpoints/sam_hq_vit_h.zip ...\n",
      "INFO:patool:Extracting /root/.cache/torch/hub/checkpoints/sam_hq_vit_h.zip ...\n",
      "INFO patool: running /usr/bin/7z x -aou -o/root/.cache/torch/hub/checkpoints -- /root/.cache/torch/hub/checkpoints/sam_hq_vit_h.zip\n",
      "INFO:patool:running /usr/bin/7z x -aou -o/root/.cache/torch/hub/checkpoints -- /root/.cache/torch/hub/checkpoints/sam_hq_vit_h.zip\n",
      "INFO patool: ... /root/.cache/torch/hub/checkpoints/sam_hq_vit_h.zip extracted to `/root/.cache/torch/hub/checkpoints'.\n",
      "INFO:patool:... /root/.cache/torch/hub/checkpoints/sam_hq_vit_h.zip extracted to `/root/.cache/torch/hub/checkpoints'.\n"
     ]
    },
    {
     "output_type": "stream",
     "name": "stdout",
     "text": [
      "<All keys matched successfully>\n",
      "Processing folder: Stadt\n",
      "<All keys matched successfully>\n",
      "Processing folder: Wohngegend\n",
      "<All keys matched successfully>\n",
      "Processing folder: Gewerbegebiet\n",
      "<All keys matched successfully>\n"
     ]
    }
   ]
  },
  {
   "cell_type": "markdown",
   "source": [
    "# Samgeo1 automatic"
   ],
   "metadata": {
    "id": "3IAAxq0-S_9d"
   }
  },
  {
   "cell_type": "code",
   "source": [
    "def run_samgeo1_automatic(src_path: Path):\n",
    "\n",
    "    out_dir = \"/content/drive/MyDrive/Bachelorarbeit/results\"\n",
    "    sam_kwargs = {\n",
    "        \"points_per_side\": 32,\n",
    "        \"pred_iou_thresh\": 0.88,\n",
    "        \"stability_score_thresh\": 0.95,\n",
    "        \"crop_n_layers\": 0,\n",
    "        \"crop_n_points_downscale_factor\": 1,\n",
    "        \"min_mask_region_area\": 0,\n",
    "        }\n",
    "\n",
    "    sam = SamGeo(model_type=\"vit_h\", device=\"cuda\", sam_kwargs=sam_kwargs)\n",
    "\n",
    "    tiff_mask = os.path.join(out_dir, f\"{src_path.stem}_sam_raw.tif\")\n",
    "    sam.generate(str(src_path), tiff_mask)\n",
    "\n",
    "    vector_mask = os.path.join(out_dir, f\"{src_path.stem}_sam_raw.gpkg\")\n",
    "    sam.raster_to_vector(tiff_mask, vector_mask)"
   ],
   "metadata": {
    "id": "jmqJY2oKTCLq"
   },
   "execution_count": null,
   "outputs": []
  },
  {
   "cell_type": "code",
   "source": [
    "iterate_folders(\"/content/drive/MyDrive/Bachelorarbeit/data/szenarien_cir\", run_samgeo1_automatic)"
   ],
   "metadata": {
    "colab": {
     "base_uri": "https://localhost:8080/",
     "height": 141
    },
    "id": "jnJtMZ-ZTyvd",
    "executionInfo": {
     "status": "error",
     "timestamp": 1747232907850,
     "user_tz": -120,
     "elapsed": 208,
     "user": {
      "displayName": "José Zehentner",
      "userId": "17148684951063508157"
     }
    },
    "outputId": "31299fe0-3511-40c0-df03-da87b65faa33"
   },
   "execution_count": null,
   "outputs": [
    {
     "output_type": "error",
     "ename": "NameError",
     "evalue": "name 'iterate_folders' is not defined",
     "traceback": [
      "\u001B[0;31m---------------------------------------------------------------------------\u001B[0m",
      "\u001B[0;31mNameError\u001B[0m                                 Traceback (most recent call last)",
      "\u001B[0;32m<ipython-input-1-01e5825de6c9>\u001B[0m in \u001B[0;36m<cell line: 0>\u001B[0;34m()\u001B[0m\n\u001B[0;32m----> 1\u001B[0;31m \u001B[0miterate_folders\u001B[0m\u001B[0;34m(\u001B[0m\u001B[0;34m\"/content/drive/MyDrive/Bachelorarbeit/data/szenarien_cir\"\u001B[0m\u001B[0;34m,\u001B[0m \u001B[0mrun_samgeo1_automatic\u001B[0m\u001B[0;34m)\u001B[0m\u001B[0;34m\u001B[0m\u001B[0;34m\u001B[0m\u001B[0m\n\u001B[0m",
      "\u001B[0;31mNameError\u001B[0m: name 'iterate_folders' is not defined"
     ]
    }
   ]
  },
  {
   "cell_type": "markdown",
   "source": [
    "# Samgeo1 point prompt"
   ],
   "metadata": {
    "id": "uj1yDza9WFff"
   }
  },
  {
   "cell_type": "code",
   "source": [
    "def run_samgeo1_point_prompt(src_path: Path):\n",
    "    out_dir = \"/content/drive/MyDrive/Bachelorarbeit/results/SAMGeo/Sam_1_point_prompt\"\n",
    "    csv_files = list(src_path.parent.glob(\"*.csv\"))\n",
    "    csv_file = csv_files[0]\n",
    "\n",
    "    coords = []\n",
    "    with open(csv_file, newline='') as f:\n",
    "        reader = csv.reader(f)\n",
    "        for row in reader:\n",
    "            x = float(row[0])\n",
    "            y = float(row[1])\n",
    "            coords.append([x, y])\n",
    "\n",
    "    sam = SamGeo(model_type=\"vit_h\", device=\"cuda\", automatic=False)\n",
    "    sam.set_image(str(src_path))\n",
    "    tiff_mask = os.path.join(out_dir, f\"{src_path.stem}_sam1_point_prompt.tif\")\n",
    "\n",
    "    sam.predict(\n",
    "        point_coords=coords,\n",
    "        point_crs=\"EPSG:25832\",\n",
    "        output=tiff_mask\n",
    "        )\n",
    "\n",
    "    vector_mask = os.path.join(out_dir, f\"{src_path.stem}_sam1_point_prompt.gpkg\")\n",
    "    sam.raster_to_vector(tiff_mask, vector_mask)\n",
    "\n",
    "    vector_mask_regularized = os.path.join(out_dir, f\"{src_path.stem}_regularized.gpkg\")\n",
    "    regularize(vector_mask, vector_mask_regularized)"
   ],
   "metadata": {
    "id": "V2n7Nm1sWE2Y"
   },
   "execution_count": null,
   "outputs": []
  },
  {
   "cell_type": "code",
   "source": [
    "iterate_folders(\"/content/drive/MyDrive/Bachelorarbeit/data/szenarien_rgb\", run_samgeo1_point_prompt)"
   ],
   "metadata": {
    "colab": {
     "base_uri": "https://localhost:8080/"
    },
    "id": "OJg8EGQCW77c",
    "executionInfo": {
     "status": "ok",
     "timestamp": 1752765660062,
     "user_tz": -120,
     "elapsed": 96775,
     "user": {
      "displayName": "José Zehentner",
      "userId": "17148684951063508157"
     }
    },
    "outputId": "1b458cd3-3632-4acd-f2ef-165abab5065e"
   },
   "execution_count": null,
   "outputs": [
    {
     "output_type": "stream",
     "name": "stderr",
     "text": [
      "Downloading...\n",
      "From: https://dl.fbaipublicfiles.com/segment_anything/sam_vit_h_4b8939.pth\n",
      "To: /root/.cache/torch/hub/checkpoints/sam_vit_h_4b8939.pth\n"
     ]
    },
    {
     "output_type": "stream",
     "name": "stdout",
     "text": [
      "Processing folder: Land\n",
      "Model checkpoint for vit_h not found.\n"
     ]
    },
    {
     "output_type": "stream",
     "name": "stderr",
     "text": [
      "100%|██████████| 2.56G/2.56G [00:43<00:00, 59.4MB/s]\n"
     ]
    },
    {
     "output_type": "stream",
     "name": "stdout",
     "text": [
      "Processing folder: Stadt\n",
      "Processing folder: Wohngegend\n",
      "Processing folder: Gewerbegebiet\n"
     ]
    }
   ]
  },
  {
   "cell_type": "markdown",
   "source": [
    "# Samgeo1 text prompt"
   ],
   "metadata": {
    "id": "jvti-qd4XTOx"
   }
  },
  {
   "cell_type": "code",
   "source": [
    "def run_samgeo1_text_prompt(src_path: Path):\n",
    "\n",
    "    out_dir = \"/content/drive/MyDrive/Bachelorarbeit/results/SAMGeo/sam_streets\"\n",
    "    text_prompt = \"streets\"\n",
    "\n",
    "    lang_sam = LangSAM(model_type=\"vit_h\")\n",
    "\n",
    "    tiff_mask = os.path.join(out_dir, f\"{src_path.stem}_sam1_text_prompt.tif\")\n",
    "\n",
    "    lang_sam.predict(\n",
    "         image=str(src_path),\n",
    "         output=tiff_mask,\n",
    "          text_prompt=text_prompt,\n",
    "          box_threshold=0.2,\n",
    "          text_threshold=0.4)\n",
    "\n",
    "    vector_mask = os.path.join(out_dir, f\"{src_path.stem}_sam1_text_prompt.gpkg\")\n",
    "    lang_sam.raster_to_vector(tiff_mask, vector_mask)\n",
    "\n",
    "    vector_mask_regularized = os.path.join(out_dir, f\"{src_path.stem}_sam1_regularized.gpkg\")\n",
    "    regularize(vector_mask, vector_mask_regularized)"
   ],
   "metadata": {
    "id": "MOKHJ6KaXVtA",
    "executionInfo": {
     "status": "ok",
     "timestamp": 1753221113267,
     "user_tz": -120,
     "elapsed": 18,
     "user": {
      "displayName": "José Zehentner",
      "userId": "17148684951063508157"
     }
    }
   },
   "execution_count": 14,
   "outputs": []
  },
  {
   "cell_type": "code",
   "source": [
    "iterate_folders(\"/content/drive/MyDrive/Bachelorarbeit/data/szenarien_rgb\", run_samgeo1_text_prompt)"
   ],
   "metadata": {
    "colab": {
     "base_uri": "https://localhost:8080/",
     "height": 415,
     "referenced_widgets": [
      "c9affe75b76d4cc99b8c4784c9aa3731",
      "a4af818c78e14bcab262bd544f70ad3e",
      "c5c3004b905a434ea6091aaaa8277956",
      "0ab8c01618f94105849a851d29496ce2",
      "78846cf67bd24a02bd32792122693746",
      "00bf6fb6b46c4be0acdae28ad1743655",
      "2daea814c75845acbf82c7eecdc53d0e",
      "3bd21d8cdfec48ef8958635369a31c8a",
      "8346ee5d5f594e01bcff016118eb2b6a",
      "26a6fd78ac6a4204b04b40327c487fb4",
      "2756fc4e57524f0fad1accc85b967729",
      "f7da66411e2e4f97ace0e45ffaadd619",
      "a19112bdb3724d4aa82255e9605142d2",
      "4947c282f29848f981bbf7af465b8127",
      "1a39710dbd404d458973426b799cf370",
      "70bf39aa497640c081ecd8d0b24165d6",
      "12487896d9f845a2accf8f1341debf6d",
      "c097f743251346919900a3d368afa33d",
      "27e623808feb40c98a06db43b37d13e9",
      "cbb9bd6e1a4c49a19213e4c79ba693d9",
      "446ca9d819d94f54a42b725ea9662fc7",
      "e07bbdb88c104735994a8ea30b094e05",
      "3e422563a9124d2da3667e0271af4202",
      "9eec4903ed3f4fe6839ead1e7322fdc4",
      "f316dec530b2452695ca659409c91143",
      "f8c52429a40e4859942255cfffa27c53",
      "be93b56fb1ce4b45a2b98405f323275f",
      "d340e561d9194a3a94bd98a57fbae325",
      "19e867005eeb4cd3bcf26e11308821cf",
      "d305004d2e274d35a218a69c43e446a2",
      "8bf364adc50649a2b0ed51d94418f686",
      "48ff898ff57342d5bab6df883028ffd7",
      "663889f926bf4dc78ad05f5d677b472c",
      "d19c85da2f0c4daf8c07825a49473264",
      "5722213f1ca94647aa3d3090bb89c989",
      "9c7076d3da4645e6b0939365e37bf589",
      "7ab11577f81e40789db4c6ee2aca96f4",
      "f0c34d1fd6394768b5858527cf7ede3a",
      "a10fb66537614a5fa563f469c85351e5",
      "d4baed4bc4f244e8ba6c85e682e9d3e5",
      "85920435ee554756a4be2b266c9a8c80",
      "77af5e5e5bb346b7abd66d7112e8c426",
      "b95a14328a9042dd9ea0b9d0562115de",
      "a630622a72044dae9d7a4bce49f28d05",
      "9ad208f5900943f9bd34e5bf838c37ea",
      "f7e3a5eb57c941ac824ac2e0f1618fc7",
      "4177c1f3765444928eb42870d0f10f07",
      "4f9c3738c7f848ab837b1169f832d470",
      "f06de85a6f304334ab63ee7e34eef43a",
      "ce429e1352ee4260b0d9bf340ad90dd0",
      "e98aed510f8e48e9bdec4769aeb3e62b",
      "baff4c596e26472db9c3753d4fb3af51",
      "9adefcf3d44c42eaa6b6d64c274768bc",
      "0d0d0446fd6542389f5cc595181244f0",
      "02157b4d2d2e485fa668916e5c4fd5e4",
      "fb1d888bf2804e15bb4ad4e163776985",
      "2912ed3ec52e49ccad7b443f95a7ada8",
      "93ba94ea5b574760b08c7bfbd0bcfd83",
      "49de5721429a41faa83a557a4fd80c51",
      "e7ccb858be8e40d6892b74308648bafb",
      "d0a6c3e63d3b4243a5a1984995bffa02",
      "740e972d6a8147948fc8db8ecf1fb75d",
      "f27d8113ad4e45a1a5704a9642adecaf",
      "36ee1c29774d45c9a05c28be3a783dc1",
      "bda8cbee3ce740d8b2857444dfdceedd",
      "dc7c326e4e9246e2afb19c68106d3909",
      "981e8d1384d34141a8430ef52d67cbb0",
      "5684ec7360824371838e776556c4ec14",
      "0576df8ac0c84938a205f1d77fa13ac7",
      "01eefa7f2ab04755a0574c9994fc5433",
      "83796d195bab4c528ff7bb447cf35266",
      "df56f350b0414d13aa4d6f467727b571",
      "74a9005d32b5422a83469c91962372b7",
      "745f71ea3f2345a1b0b0488a6f00abb0",
      "f3771f1a5ce5429fb42690b64d920fa0",
      "dd0c4fc3657847b1b9cc52022d1ff92f",
      "7916169dceab4f3488ff80744020645e"
     ]
    },
    "id": "M2KvjqfjZAiv",
    "executionInfo": {
     "status": "ok",
     "timestamp": 1753221276894,
     "user_tz": -120,
     "elapsed": 161794,
     "user": {
      "displayName": "José Zehentner",
      "userId": "17148684951063508157"
     }
    },
    "outputId": "e1541edf-5f9c-48a9-a272-3bcc99400900"
   },
   "execution_count": 15,
   "outputs": [
    {
     "output_type": "stream",
     "name": "stdout",
     "text": [
      "Processing folder: Land\n"
     ]
    },
    {
     "output_type": "display_data",
     "data": {
      "text/plain": [
       "GroundingDINO_SwinB.cfg.py: 0.00B [00:00, ?B/s]"
      ],
      "application/vnd.jupyter.widget-view+json": {
       "version_major": 2,
       "version_minor": 0,
       "model_id": "c9affe75b76d4cc99b8c4784c9aa3731"
      }
     },
     "metadata": {}
    },
    {
     "output_type": "stream",
     "name": "stdout",
     "text": [
      "final text_encoder_type: bert-base-uncased\n"
     ]
    },
    {
     "output_type": "display_data",
     "data": {
      "text/plain": [
       "tokenizer_config.json:   0%|          | 0.00/48.0 [00:00<?, ?B/s]"
      ],
      "application/vnd.jupyter.widget-view+json": {
       "version_major": 2,
       "version_minor": 0,
       "model_id": "f7da66411e2e4f97ace0e45ffaadd619"
      }
     },
     "metadata": {}
    },
    {
     "output_type": "display_data",
     "data": {
      "text/plain": [
       "config.json:   0%|          | 0.00/570 [00:00<?, ?B/s]"
      ],
      "application/vnd.jupyter.widget-view+json": {
       "version_major": 2,
       "version_minor": 0,
       "model_id": "3e422563a9124d2da3667e0271af4202"
      }
     },
     "metadata": {}
    },
    {
     "output_type": "display_data",
     "data": {
      "text/plain": [
       "vocab.txt:   0%|          | 0.00/232k [00:00<?, ?B/s]"
      ],
      "application/vnd.jupyter.widget-view+json": {
       "version_major": 2,
       "version_minor": 0,
       "model_id": "d19c85da2f0c4daf8c07825a49473264"
      }
     },
     "metadata": {}
    },
    {
     "output_type": "display_data",
     "data": {
      "text/plain": [
       "tokenizer.json:   0%|          | 0.00/466k [00:00<?, ?B/s]"
      ],
      "application/vnd.jupyter.widget-view+json": {
       "version_major": 2,
       "version_minor": 0,
       "model_id": "9ad208f5900943f9bd34e5bf838c37ea"
      }
     },
     "metadata": {}
    },
    {
     "output_type": "display_data",
     "data": {
      "text/plain": [
       "model.safetensors:   0%|          | 0.00/440M [00:00<?, ?B/s]"
      ],
      "application/vnd.jupyter.widget-view+json": {
       "version_major": 2,
       "version_minor": 0,
       "model_id": "fb1d888bf2804e15bb4ad4e163776985"
      }
     },
     "metadata": {}
    },
    {
     "output_type": "display_data",
     "data": {
      "text/plain": [
       "groundingdino_swinb_cogcoor.pth:   0%|          | 0.00/938M [00:00<?, ?B/s]"
      ],
      "application/vnd.jupyter.widget-view+json": {
       "version_major": 2,
       "version_minor": 0,
       "model_id": "981e8d1384d34141a8430ef52d67cbb0"
      }
     },
     "metadata": {}
    },
    {
     "output_type": "stream",
     "name": "stderr",
     "text": [
      "Downloading: \"https://dl.fbaipublicfiles.com/segment_anything/sam_vit_h_4b8939.pth\" to /root/.cache/torch/hub/checkpoints/sam_vit_h_4b8939.pth\n",
      "100%|██████████| 2.39G/2.39G [00:27<00:00, 93.1MB/s]\n"
     ]
    },
    {
     "output_type": "stream",
     "name": "stdout",
     "text": [
      "Processing folder: Stadt\n",
      "final text_encoder_type: bert-base-uncased\n",
      "Processing folder: Wohngegend\n",
      "final text_encoder_type: bert-base-uncased\n",
      "Processing folder: Gewerbegebiet\n",
      "final text_encoder_type: bert-base-uncased\n"
     ]
    }
   ]
  }
 ]
}
